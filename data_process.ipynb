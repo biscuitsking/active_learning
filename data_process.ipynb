{
 "cells": [
  {
   "cell_type": "code",
   "execution_count": null,
   "metadata": {
    "collapsed": true
   },
   "outputs": [],
   "source": [
    "import os\n",
    "from PIL import Image\n",
    "import torch\n",
    "from torchvision import transforms as T\n",
    "from torch.autograd import Variable\n",
    "from torch import nn"
   ]
  },
  {
   "cell_type": "code",
   "execution_count": null,
   "metadata": {
    "collapsed": true
   },
   "outputs": [],
   "source": [
    "%matplotlib inline"
   ]
  },
  {
   "cell_type": "code",
   "execution_count": null,
   "metadata": {
    "collapsed": true
   },
   "outputs": [],
   "source": [
    "from IPython.core.interactiveshell import InteractiveShell\n",
    "InteractiveShell.ast_node_interactivity = 'all'"
   ]
  },
  {
   "cell_type": "code",
   "execution_count": null,
   "metadata": {
    "collapsed": true
   },
   "outputs": [],
   "source": [
    "#选择gpu\n",
    "os.environ[\"CUDA_VISIBLE_DEVICES\"] = \"1\""
   ]
  },
  {
   "cell_type": "code",
   "execution_count": null,
   "metadata": {
    "collapsed": true
   },
   "outputs": [],
   "source": [
    "root = '/data/health/eyeBigData/data/eye_fundus/'"
   ]
  },
  {
   "cell_type": "code",
   "execution_count": null,
   "metadata": {
    "collapsed": true
   },
   "outputs": [],
   "source": [
    "root1 = 'original_5class/validation/'"
   ]
  },
  {
   "cell_type": "code",
   "execution_count": null,
   "metadata": {
    "collapsed": true
   },
   "outputs": [],
   "source": [
    "labels = os.listdir(root + 'original_5class/validation/')\n",
    "imgs = []\n",
    "for i in range(len(labels)):\n",
    "    img_temp = [os.path.join(root,root1,labels[i], img) for img in os.listdir(root + root1 + labels[i])]\n",
    "    imgs = imgs + img_temp\n",
    "len(imgs)"
   ]
  },
  {
   "cell_type": "code",
   "execution_count": null,
   "metadata": {
    "collapsed": true
   },
   "outputs": [],
   "source": [
    "Image.open(imgs[0])"
   ]
  },
  {
   "cell_type": "code",
   "execution_count": null,
   "metadata": {
    "collapsed": true
   },
   "outputs": [],
   "source": [
    "imgs = sorted(imgs, key = lambda x: int(x.split('/')[-1].split('_')[-2]))"
   ]
  },
  {
   "cell_type": "code",
   "execution_count": null,
   "metadata": {
    "collapsed": true
   },
   "outputs": [],
   "source": [
    "imgs1 = os.listdir(root + 'original_5class/train/3')\n",
    "imgs1 = sorted(imgs1, key = lambda x: int(x.split('_')[-2]))\n",
    "imgs1[:10]"
   ]
  },
  {
   "cell_type": "code",
   "execution_count": null,
   "metadata": {
    "collapsed": true
   },
   "outputs": [],
   "source": [
    "a = Image.open(root + 'original_5class/train/1/' + imgs[9])\n",
    "normalize = T.Normalize(mean = [0.5, 0.5, 0.5], std = [0.5, 0.5, 0.5])\n",
    "transform = T.Compose([\n",
    "    T.Resize(600),\n",
    "    T.CenterCrop(600),\n",
    "    #T.ToTensor(),\n",
    "    #normalize,\n",
    "])\n",
    "\n",
    "a = transform(a)\n",
    "a.save('eye_test_1.jpg')\n",
    "#a = a.unsqueeze(0)"
   ]
  },
  {
   "cell_type": "code",
   "execution_count": null,
   "metadata": {
    "collapsed": true
   },
   "outputs": [],
   "source": []
  },
  {
   "cell_type": "code",
   "execution_count": null,
   "metadata": {
    "collapsed": true
   },
   "outputs": [],
   "source": [
    "from torchvision import models"
   ]
  },
  {
   "cell_type": "code",
   "execution_count": null,
   "metadata": {
    "collapsed": true
   },
   "outputs": [],
   "source": [
    "model = models.inception_v3()"
   ]
  },
  {
   "cell_type": "code",
   "execution_count": null,
   "metadata": {
    "collapsed": true
   },
   "outputs": [],
   "source": [
    "model.fc = nn.Linear(8192, 5)"
   ]
  },
  {
   "cell_type": "code",
   "execution_count": null,
   "metadata": {
    "collapsed": true
   },
   "outputs": [],
   "source": [
    "model.cuda()"
   ]
  },
  {
   "cell_type": "code",
   "execution_count": null,
   "metadata": {
    "collapsed": true
   },
   "outputs": [],
   "source": [
    "b = Variable(a)\n",
    "b = b.cuda()"
   ]
  },
  {
   "cell_type": "code",
   "execution_count": null,
   "metadata": {
    "collapsed": true
   },
   "outputs": [],
   "source": [
    "model.eval()"
   ]
  },
  {
   "cell_type": "code",
   "execution_count": null,
   "metadata": {
    "collapsed": true
   },
   "outputs": [],
   "source": [
    "model(b)"
   ]
  },
  {
   "cell_type": "code",
   "execution_count": null,
   "metadata": {
    "collapsed": true
   },
   "outputs": [],
   "source": [
    "from tqdm import tqdm\n",
    "def trans_orige(img):\n",
    "    transform = T.Compose([\n",
    "        T.Resize(299),\n",
    "        T.CenterCrop(299)\n",
    "    ])\n",
    "    return transform(img)\n",
    "def trans_augment(img):\n",
    "    transform = T.Compose([\n",
    "        T.Resize(320),\n",
    "        T.RandomRotation(20),\n",
    "        \n",
    "        T.RandomHorizontalFlip(),\n",
    "        T.RandomVerticalFlip(),\n",
    "        T.RandomCrop(299),\n",
    "    ])\n",
    "    return transform(img)"
   ]
  },
  {
   "cell_type": "code",
   "execution_count": null,
   "metadata": {
    "collapsed": false
   },
   "outputs": [],
   "source": [
    "root = '/home/user/data/eye_fundus/original_5class/train/3/'\n",
    "imgs = [img for img in os.listdir(root)]\n",
    "augment_num = 9\n",
    "out_root = '/home/userpython3/Templates/health/Xli/eye_data_299/augment_train/3/'\n",
    "for img in tqdm(imgs):\n",
    "    \n",
    "    img0 = Image.open(root + img)\n",
    "   \n",
    "    pic = trans_orige(img0)\n",
    "    pic.save(out_root + str(0) + '.' + img)\n",
    "    for j in range(1,10):\n",
    "\n",
    "        pic = trans_augment(img0)\n",
    "        pic.save(out_root + str(j) + '.' + img)"
   ]
  },
  {
   "cell_type": "code",
   "execution_count": null,
   "metadata": {
    "collapsed": false
   },
   "outputs": [],
   "source": [
    "root_1 = '/home/userpython3/Templates/health/Xli/eye_data/picked/second/4/'\n",
    "imgs = os.listdir(root_1)\n",
    "len(imgs)\n"
   ]
  },
  {
   "cell_type": "code",
   "execution_count": null,
   "metadata": {
    "collapsed": true
   },
   "outputs": [],
   "source": [
    "1179+350+579+459+399 +479+1479+89 +1720 + 6500"
   ]
  },
  {
   "cell_type": "code",
   "execution_count": 2,
   "metadata": {
    "collapsed": false
   },
   "outputs": [],
   "source": [
    "#deal with train log\n",
    "with open('/home/userpython3/Templates/health/Eye_5/train_fifth_solo_log.txt', 'r') as f:\n",
    "    t = f.read()\n",
    "    t = eval(t)\n",
    "    f.close()\n",
    "with open('/home/userpython3/Templates/health/Eye_5/val_fifth_solo_log.txt', 'r') as f:\n",
    "    v = f.read()\n",
    "    v = eval(v)\n",
    "    f.close()  "
   ]
  },
  {
   "cell_type": "code",
   "execution_count": null,
   "metadata": {
    "collapsed": false
   },
   "outputs": [],
   "source": [
    "v"
   ]
  },
  {
   "cell_type": "code",
   "execution_count": null,
   "metadata": {
    "collapsed": false
   },
   "outputs": [],
   "source": [
    "v = v.replace(\"'\", '')"
   ]
  },
  {
   "cell_type": "code",
   "execution_count": null,
   "metadata": {
    "collapsed": true
   },
   "outputs": [],
   "source": [
    "v = v.split(',')"
   ]
  },
  {
   "cell_type": "code",
   "execution_count": null,
   "metadata": {
    "collapsed": false
   },
   "outputs": [],
   "source": [
    "v_num = []\n",
    "for key in v:\n",
    "    if key != '':\n",
    "        if '*' in key:\n",
    "            \n",
    "            v_num.append(float(key.split('*')[0]) * float(key.split('*')[0]))\n",
    "        else:\n",
    "            v_num.append(float(key))"
   ]
  },
  {
   "cell_type": "code",
   "execution_count": null,
   "metadata": {
    "collapsed": false
   },
   "outputs": [],
   "source": [
    "v_num"
   ]
  },
  {
   "cell_type": "code",
   "execution_count": 3,
   "metadata": {
    "collapsed": false
   },
   "outputs": [],
   "source": [
    "import matplotlib.pyplot as plt\n",
    "plt.figure()\n",
    "plt.xlabel('eopch_num')\n",
    "plt.ylabel('loss')\n",
    "x = range(1,21)\n",
    "plt.plot(x,t, label=\"trian loss\",color='g')\n",
    "plt.plot(x,v, label=\"val loss\",color='b')\n",
    "plt.legend()\n",
    "plt.savefig('fifth solo train.png')\n",
    "plt.close('all')"
   ]
  },
  {
   "cell_type": "code",
   "execution_count": null,
   "metadata": {
    "collapsed": true
   },
   "outputs": [],
   "source": [
    "for key in t:\n",
    "    print(key[0])"
   ]
  },
  {
   "cell_type": "code",
   "execution_count": null,
   "metadata": {
    "collapsed": true
   },
   "outputs": [],
   "source": [
    "a = [1,2,3]"
   ]
  },
  {
   "cell_type": "code",
   "execution_count": null,
   "metadata": {
    "collapsed": false
   },
   "outputs": [],
   "source": [
    "import os\n",
    "with open('a.txt', 'w') as f:\n",
    "        f.write(str(a))\n",
    "        f.close()\n",
    "len(a)"
   ]
  },
  {
   "cell_type": "code",
   "execution_count": null,
   "metadata": {
    "collapsed": true
   },
   "outputs": [],
   "source": [
    "#remove repeat files\n",
    "imgs = os.listdir('/home/userpython3/Templates/health/Xli/eye_data/picked/first/4/')\n",
    "root = '/home/userpython3/Templates/health/Xli/eye_data/picked/second/4/'\n",
    "imgs_2 = os.listdir(root)\n",
    "for img in imgs_2:\n",
    "    if img in imgs:\n",
    "        os.remove(os.path.join(root, img))"
   ]
  },
  {
   "cell_type": "code",
   "execution_count": 3,
   "metadata": {
    "collapsed": false
   },
   "outputs": [
    {
     "ename": "ImportError",
     "evalue": "No module named 'dicom'",
     "traceback": [
      "\u001b[0;31m---------------------------------------------------------------------------\u001b[0m",
      "\u001b[0;31mImportError\u001b[0m                               Traceback (most recent call last)",
      "\u001b[0;32m<ipython-input-3-c51028458896>\u001b[0m in \u001b[0;36m<module>\u001b[0;34m()\u001b[0m\n\u001b[1;32m      1\u001b[0m \u001b[0;31m#scrits\u001b[0m\u001b[0;34m\u001b[0m\u001b[0;34m\u001b[0m\u001b[0m\n\u001b[0;32m----> 2\u001b[0;31m \u001b[0;32mimport\u001b[0m \u001b[0mdicom\u001b[0m\u001b[0;34m\u001b[0m\u001b[0m\n\u001b[0m",
      "\u001b[0;31mImportError\u001b[0m: No module named 'dicom'"
     ],
     "output_type": "error"
    }
   ],
   "source": [
    "#scrits\n",
    "import dicom"
   ]
  }
 ],
 "metadata": {
  "anaconda-cloud": {},
  "kernelspec": {
   "display_name": "Python [default]",
   "language": "python",
   "name": "python3"
  },
  "language_info": {
   "codemirror_mode": {
    "name": "ipython",
    "version": 3
   },
   "file_extension": ".py",
   "mimetype": "text/x-python",
   "name": "python",
   "nbconvert_exporter": "python",
   "pygments_lexer": "ipython3",
   "version": "3.5.2"
  }
 },
 "nbformat": 4,
 "nbformat_minor": 2
}
